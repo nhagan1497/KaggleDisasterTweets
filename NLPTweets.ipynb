{
 "cells": [
  {
   "cell_type": "code",
   "execution_count": 1,
   "id": "c520e4ff-6471-41f1-a76f-a6256d10f2e9",
   "metadata": {},
   "outputs": [],
   "source": [
    "import torch\n",
    "import pandas as pd\n",
    "import matplotlib.pyplot as plt"
   ]
  },
  {
   "cell_type": "code",
   "execution_count": 2,
   "id": "7ec3a25e-01d6-4ec8-a350-b22a9778c081",
   "metadata": {},
   "outputs": [],
   "source": [
    "import torch.nn as nn\n",
    "import torch.optim as optim\n",
    "from torch.utils.data import Dataset, DataLoader\n",
    "from transformers import BertTokenizer, BertModel\n",
    "from torchvision import transforms"
   ]
  },
  {
   "cell_type": "code",
   "execution_count": null,
   "id": "bb66644b-277b-4cd6-a5fa-88344c83cacf",
   "metadata": {},
   "outputs": [],
   "source": [
    "def preprocess_text(text):\n",
    "        stop_words = set(stopwords.words('english'))\n",
    "        ps = PorterStemmer()\n",
    "        \n",
    "        text = re.sub(r'[,.!?{}%\\[\\]#()]', '', text)\n",
    "        text = re.sub(r'\\n+', ' ', text)\n",
    "\n",
    "        # Remove special characters\n",
    "        text = re.sub(r'[^\\w\\s]', '', text)\n",
    "        text = text.lower()\n",
    "        \n",
    "        tokens = word_tokenize(text)  # Tokenization\n",
    "        tokens = [token for token in tokens if\n",
    "                  token.isalpha() and token not in stop_words and len(token) > 1]  # Remove non-alphanumeric and stop words\n",
    "    \n",
    "        stemmed_tokens = [ps.stem(token) for token in tokens]\n",
    "        \n",
    "        return stemmed_tokens\n",
    "\n",
    "def get_tokenized_text(training_column)\n",
    "    import re\n",
    "    \n",
    "    from gensim import corpora, models\n",
    "    from nltk.corpus import stopwords\n",
    "    from nltk.tokenize import word_tokenize\n",
    "    from nltk.stem import PorterStemmer\n",
    "    from gensim.models import Phrases\n",
    "    from gensim.models.phrases import Phraser\n",
    "    all_texts = training_column.apply(TopicAnalysis.preprocess_text)\n",
    "    dictionary = corpora.Dictionary(all_texts)\n",
    "    corpus = [self.dictionary.doc2bow(text) for text in all_texts_phrases]"
   ]
  },
  {
   "cell_type": "markdown",
   "id": "1ffc34cc-8b67-4add-8f45-460281d1b86e",
   "metadata": {},
   "source": [
    "I did some tests with natural language processing, and I left some of the code for that above to demonstrate. My original approach was to convert the tweets into bag of words format and run those through a neural network to train. While doing reading on that, I discovered that pre-trained NLP networks exists and can be converted to our purpose. This seemed like the correct approach to the problem in the real world."
   ]
  },
  {
   "cell_type": "code",
   "execution_count": 3,
   "id": "b81e18f2-bb89-4a94-9521-853c8b02e9c9",
   "metadata": {},
   "outputs": [],
   "source": [
    "data = pd.read_csv('data/DisasterTweets/train.csv')"
   ]
  },
  {
   "cell_type": "code",
   "execution_count": 4,
   "id": "c7f455b5-44d1-4c6b-8e07-874f68ec806b",
   "metadata": {},
   "outputs": [
    {
     "data": {
      "text/html": [
       "<div>\n",
       "<style scoped>\n",
       "    .dataframe tbody tr th:only-of-type {\n",
       "        vertical-align: middle;\n",
       "    }\n",
       "\n",
       "    .dataframe tbody tr th {\n",
       "        vertical-align: top;\n",
       "    }\n",
       "\n",
       "    .dataframe thead th {\n",
       "        text-align: right;\n",
       "    }\n",
       "</style>\n",
       "<table border=\"1\" class=\"dataframe\">\n",
       "  <thead>\n",
       "    <tr style=\"text-align: right;\">\n",
       "      <th></th>\n",
       "      <th>id</th>\n",
       "      <th>keyword</th>\n",
       "      <th>location</th>\n",
       "      <th>text</th>\n",
       "      <th>target</th>\n",
       "    </tr>\n",
       "  </thead>\n",
       "  <tbody>\n",
       "    <tr>\n",
       "      <th>0</th>\n",
       "      <td>1</td>\n",
       "      <td>NaN</td>\n",
       "      <td>NaN</td>\n",
       "      <td>Our Deeds are the Reason of this #earthquake M...</td>\n",
       "      <td>1</td>\n",
       "    </tr>\n",
       "    <tr>\n",
       "      <th>1</th>\n",
       "      <td>4</td>\n",
       "      <td>NaN</td>\n",
       "      <td>NaN</td>\n",
       "      <td>Forest fire near La Ronge Sask. Canada</td>\n",
       "      <td>1</td>\n",
       "    </tr>\n",
       "    <tr>\n",
       "      <th>2</th>\n",
       "      <td>5</td>\n",
       "      <td>NaN</td>\n",
       "      <td>NaN</td>\n",
       "      <td>All residents asked to 'shelter in place' are ...</td>\n",
       "      <td>1</td>\n",
       "    </tr>\n",
       "    <tr>\n",
       "      <th>3</th>\n",
       "      <td>6</td>\n",
       "      <td>NaN</td>\n",
       "      <td>NaN</td>\n",
       "      <td>13,000 people receive #wildfires evacuation or...</td>\n",
       "      <td>1</td>\n",
       "    </tr>\n",
       "    <tr>\n",
       "      <th>4</th>\n",
       "      <td>7</td>\n",
       "      <td>NaN</td>\n",
       "      <td>NaN</td>\n",
       "      <td>Just got sent this photo from Ruby #Alaska as ...</td>\n",
       "      <td>1</td>\n",
       "    </tr>\n",
       "  </tbody>\n",
       "</table>\n",
       "</div>"
      ],
      "text/plain": [
       "   id keyword location                                               text  \\\n",
       "0   1     NaN      NaN  Our Deeds are the Reason of this #earthquake M...   \n",
       "1   4     NaN      NaN             Forest fire near La Ronge Sask. Canada   \n",
       "2   5     NaN      NaN  All residents asked to 'shelter in place' are ...   \n",
       "3   6     NaN      NaN  13,000 people receive #wildfires evacuation or...   \n",
       "4   7     NaN      NaN  Just got sent this photo from Ruby #Alaska as ...   \n",
       "\n",
       "   target  \n",
       "0       1  \n",
       "1       1  \n",
       "2       1  \n",
       "3       1  \n",
       "4       1  "
      ]
     },
     "execution_count": 4,
     "metadata": {},
     "output_type": "execute_result"
    }
   ],
   "source": [
    "data.head()"
   ]
  },
  {
   "cell_type": "markdown",
   "id": "e9fa8ba3-8310-4a2a-90d5-12704aa866f6",
   "metadata": {},
   "source": [
    "Printed out some sample rows to get an idea of what exactly is contained in the data set. Pretty straightforward, tweet text and target are what I'm most interested in."
   ]
  },
  {
   "cell_type": "code",
   "execution_count": 5,
   "id": "043f4ec8-fae4-40f8-ad99-2a90d4d8f6f6",
   "metadata": {},
   "outputs": [],
   "source": [
    "from sklearn.model_selection import train_test_split\n",
    "X = data['text']\n",
    "y = data['target']\n",
    "X_train, X_test, y_train, y_test = train_test_split(X, y, test_size=0.15, random_state=42)"
   ]
  },
  {
   "cell_type": "code",
   "execution_count": 6,
   "id": "08f3b576-17fe-4204-bfb8-6e4f676b7d28",
   "metadata": {},
   "outputs": [
    {
     "name": "stdout",
     "output_type": "stream",
     "text": [
      "6471\n"
     ]
    }
   ],
   "source": [
    "print(len(X_train))"
   ]
  },
  {
   "cell_type": "code",
   "execution_count": 7,
   "id": "c7127015-3eb9-4ad5-92b4-ef91b08ffbf1",
   "metadata": {},
   "outputs": [
    {
     "data": {
      "image/png": "[encoded data removed]",
      "text/plain": [
       "<Figure size 640x480 with 1 Axes>"
      ]
     },
     "metadata": {},
     "output_type": "display_data"
    }
   ],
   "source": [
    "value_counts = data['target'].value_counts()\n",
    "plt.bar(value_counts.index, value_counts.values, color=['skyblue', 'salmon'])\n",
    "plt.title('Frequency of Values in \"target\" column')\n",
    "plt.xlabel('Value')\n",
    "plt.ylabel('Frequency')\n",
    "plt.xticks(value_counts.index)  # Setting x-axis ticks to the unique values in 'target'\n",
    "plt.grid(axis='y')  # Add grid lines for better readability\n",
    "plt.show()"
   ]
  },
  {
   "cell_type": "markdown",
   "id": "edb923ff-40b0-4980-a888-6c22abbaab03",
   "metadata": {},
   "source": [
    "I'm not sure how close to 50/50 the data needs to be, but this seemed close enough to not need balancing to me, which is convenient."
   ]
  },
  {
   "cell_type": "code",
   "execution_count": 8,
   "id": "0cac26fa-291a-48c9-aa7c-88a54892886f",
   "metadata": {},
   "outputs": [],
   "source": [
    "tokenizer = BertTokenizer.from_pretrained('bert-base-uncased')\n",
    "bert_model = BertModel.from_pretrained('bert-base-uncased')"
   ]
  },
  {
   "cell_type": "code",
   "execution_count": 9,
   "id": "69595f72-aefc-4c24-bbfb-6356371b638a",
   "metadata": {},
   "outputs": [],
   "source": [
    "class TweetDataset(Dataset):\n",
    "    def __init__(self, tweets, labels=None):\n",
    "        self.tweets = tweets.reset_index(drop=True)\n",
    "        self.labels = labels.reset_index(drop=True)\n",
    "\n",
    "    def __len__(self):\n",
    "        return len(self.tweets)\n",
    "\n",
    "    def __getitem__(self, idx):\n",
    "        tweet = self.tweets[idx]\n",
    "        if self.labels is not None:\n",
    "            label = self.labels[idx]\n",
    "        else:\n",
    "            label = None\n",
    "        return tweet, label"
   ]
  },
  {
   "cell_type": "code",
   "execution_count": null,
   "id": "eedfb7a6-0b7a-4f8e-adbd-0c426ba9eb4e",
   "metadata": {},
   "outputs": [],
   "source": [
    "class BERTClassifier(nn.Module):\n",
    "    def __init__(self, bert_model, num_classes):\n",
    "        super(BERTClassifier, self).__init__()\n",
    "        self.bert = bert_model\n",
    "        self.fc = nn.Linear(bert_model.config.hidden_size, 48)\n",
    "        self.fc2 = nn.Linear(48, num_classes)\n",
    "        self.dropout = nn.Dropout(0.1)\n",
    "\n",
    "    def forward(self, input_ids, attention_mask):\n",
    "        outputs = self.bert(input_ids=input_ids, attention_mask=attention_mask)\n",
    "        pooled_output = outputs.pooler_output\n",
    "        x = self.dropout(pooled_output)\n",
    "        x = self.fc(x)\n",
    "        logits = self.fc2(x)\n",
    "        return logits"
   ]
  },
  {
   "cell_type": "raw",
   "id": "0457f9f2-53d0-414c-8932-0eb286654be9",
   "metadata": {},
   "source": [
    "Fairly straightforward model and code to handle the dataset. I played around with some of the hyperparameters to see how the loss responded and didn't find any major differences so decided to keep things simple. I also ran a few epoch with a few different learning rates and watched how it affected the loss before settling on a value. Decided on using a dropout layer to prevent the pre-trained NLP model from becoming too heavily affected by the individual training cases"
   ]
  },
  {
   "cell_type": "code",
   "execution_count": 11,
   "id": "55f9cda6-a196-4edd-8d1c-b183caa1ba1c",
   "metadata": {},
   "outputs": [],
   "source": [
    "num_classes = 2\n",
    "learning_rate = 2e-5\n",
    "batch_size = 16\n",
    "num_epochs = 15"
   ]
  },
  {
   "cell_type": "code",
   "execution_count": 12,
   "id": "c7fcccf5-a72f-4157-98ff-727c72b37ee5",
   "metadata": {},
   "outputs": [],
   "source": [
    "train_dataset = TweetDataset(X_train, y_train)\n",
    "train_loader = DataLoader(train_dataset, batch_size=batch_size, shuffle=True)\n",
    "\n",
    "test_dataset = TweetDataset(X_test, y_test)\n",
    "test_loader = DataLoader(test_dataset, batch_size=batch_size, shuffle=True)"
   ]
  },
  {
   "cell_type": "code",
   "execution_count": 13,
   "id": "cd2ec512-a59a-4182-a210-6d0b75d09e0a",
   "metadata": {},
   "outputs": [],
   "source": [
    "model = BERTClassifier(bert_model, num_classes)\n",
    "device = torch.device('cuda' if torch.cuda.is_available() else 'cpu')\n",
    "model.to(device)\n",
    "model.to(device)\n",
    "criterion = nn.CrossEntropyLoss()\n",
    "optimizer = optim.AdamW(model.parameters(), lr=learning_rate)"
   ]
  },
  {
   "cell_type": "code",
   "execution_count": 14,
   "id": "b2312f56-40d9-4bd6-9713-58ba1c2fc0d8",
   "metadata": {
    "scrolled": true
   },
   "outputs": [
    {
     "name": "stdout",
     "output_type": "stream",
     "text": [
      "Epoch 1/15\n",
      "Iteration [120/405], Loss: 0.5324\n",
      "Iteration [240/405], Loss: 0.4249\n",
      "Iteration [360/405], Loss: 0.4058\n",
      "Test Loss: 0.4938\n",
      "Accuracy: 0.8363\n",
      "Epoch 2/15\n",
      "Iteration [120/405], Loss: 0.2879\n",
      "Iteration [240/405], Loss: 0.3315\n",
      "Iteration [360/405], Loss: 0.3168\n",
      "Test Loss: 0.5149\n",
      "Accuracy: 0.8030\n",
      "Epoch 3/15\n",
      "Iteration [120/405], Loss: 0.1908\n",
      "Iteration [240/405], Loss: 0.2221\n",
      "Iteration [360/405], Loss: 0.2234\n",
      "Test Loss: 0.4992\n",
      "Accuracy: 0.8117\n",
      "Epoch 4/15\n",
      "Iteration [120/405], Loss: 0.1396\n",
      "Iteration [240/405], Loss: 0.1248\n",
      "Iteration [360/405], Loss: 0.1645\n",
      "Test Loss: 0.4836\n",
      "Accuracy: 0.8222\n",
      "Epoch 5/15\n",
      "Iteration [120/405], Loss: 0.0870\n",
      "Iteration [240/405], Loss: 0.1300\n",
      "Iteration [360/405], Loss: 0.0939\n",
      "Test Loss: 0.4843\n",
      "Accuracy: 0.8231\n",
      "Epoch 6/15\n",
      "Iteration [120/405], Loss: 0.0682\n",
      "Iteration [240/405], Loss: 0.0924\n",
      "Iteration [360/405], Loss: 0.0792\n",
      "Test Loss: 0.4808\n",
      "Accuracy: 0.8222\n",
      "Epoch 7/15\n",
      "Iteration [120/405], Loss: 0.0411\n",
      "Iteration [240/405], Loss: 0.0809\n",
      "Iteration [360/405], Loss: 0.0529\n",
      "Test Loss: 0.4910\n",
      "Accuracy: 0.8144\n",
      "Epoch 8/15\n",
      "Iteration [120/405], Loss: 0.0425\n",
      "Iteration [240/405], Loss: 0.0507\n",
      "Iteration [360/405], Loss: 0.0650\n",
      "Test Loss: 0.5001\n",
      "Accuracy: 0.8065\n",
      "Epoch 9/15\n",
      "Iteration [120/405], Loss: 0.0489\n",
      "Iteration [240/405], Loss: 0.0424\n",
      "Iteration [360/405], Loss: 0.0480\n",
      "Test Loss: 0.5190\n",
      "Accuracy: 0.7846\n",
      "Epoch 10/15\n",
      "Iteration [120/405], Loss: 0.0465\n",
      "Iteration [240/405], Loss: 0.0454\n",
      "Iteration [360/405], Loss: 0.0603\n",
      "Test Loss: 0.4974\n",
      "Accuracy: 0.8056\n",
      "Epoch 11/15\n",
      "Iteration [120/405], Loss: 0.0322\n",
      "Iteration [240/405], Loss: 0.0333\n",
      "Iteration [360/405], Loss: 0.0426\n",
      "Test Loss: 0.5084\n",
      "Accuracy: 0.7890\n",
      "Epoch 12/15\n",
      "Iteration [120/405], Loss: 0.0277\n",
      "Iteration [240/405], Loss: 0.0326\n",
      "Iteration [360/405], Loss: 0.0278\n",
      "Test Loss: 0.5062\n",
      "Accuracy: 0.8004\n",
      "Epoch 13/15\n",
      "Iteration [120/405], Loss: 0.0450\n",
      "Iteration [240/405], Loss: 0.0398\n",
      "Iteration [360/405], Loss: 0.0366\n",
      "Test Loss: 0.5065\n",
      "Accuracy: 0.7942\n",
      "Epoch 14/15\n",
      "Iteration [120/405], Loss: 0.0322\n",
      "Iteration [240/405], Loss: 0.0338\n",
      "Iteration [360/405], Loss: 0.0266\n",
      "Test Loss: 0.4916\n",
      "Accuracy: 0.8161\n",
      "Epoch 15/15\n",
      "Iteration [120/405], Loss: 0.0188\n",
      "Iteration [240/405], Loss: 0.0287\n",
      "Iteration [360/405], Loss: 0.0382\n",
      "Test Loss: 0.4876\n",
      "Accuracy: 0.8135\n"
     ]
    }
   ],
   "source": [
    "import torch.nn.functional as F\n",
    "\n",
    "for epoch in range(num_epochs):\n",
    "    print(f\"Epoch {epoch+1}/{num_epochs}\")\n",
    "    model.train()\n",
    "    running_loss = 0.0\n",
    "    for i, (texts, labels) in enumerate(train_loader, 1):\n",
    "        labels = labels.to(device)\n",
    "        inputs = tokenizer(texts, padding=True, truncation=True, return_tensors='pt')\n",
    "        inputs = inputs.to(device)\n",
    "        outputs = model(input_ids=inputs['input_ids'], attention_mask=inputs['attention_mask'])\n",
    "        loss = criterion(outputs, labels)\n",
    "        loss.backward()\n",
    "        optimizer.step()\n",
    "        optimizer.zero_grad()\n",
    "\n",
    "        running_loss += loss.item()\n",
    "        \n",
    "        # Print progress every 'print_freq' iterations\n",
    "        print_freq = 120  # Change this value as needed\n",
    "        if i % print_freq == 0:\n",
    "            avg_loss = running_loss / print_freq\n",
    "            print(f\"Iteration [{i}/{len(train_loader)}], Loss: {avg_loss:.4f}\")\n",
    "            running_loss = 0.0  # Reset running loss\n",
    "\n",
    "    model.eval()\n",
    "    test_running_loss = 0.0\n",
    "    total_correct = 0\n",
    "    total_samples = 0\n",
    "    \n",
    "    with torch.no_grad():\n",
    "        for texts, labels in test_loader:\n",
    "            labels = labels.to(device)\n",
    "            inputs = tokenizer(texts, padding=True, truncation=True, return_tensors='pt')\n",
    "            inputs = inputs.to(device)\n",
    "            logits = model(input_ids=inputs['input_ids'], attention_mask=inputs['attention_mask'])\n",
    "            probabilities = F.softmax(logits, dim=1)  # Convert logits to probabilities using softmax\n",
    "            loss = criterion(probabilities, labels)\n",
    "            test_running_loss += loss.item()\n",
    "            \n",
    "            # Calculate accuracy\n",
    "            _, predicted = torch.max(probabilities, 1)\n",
    "            total_correct += (predicted == labels).sum().item()\n",
    "            total_samples += labels.size(0)\n",
    "    \n",
    "    avg_test_loss = test_running_loss / len(test_loader)\n",
    "    accuracy = total_correct / total_samples\n",
    "    print(f\"Test Loss: {avg_test_loss:.4f}\")\n",
    "    print(f\"Accuracy: {accuracy:.4f}\")\n",
    "    \n",
    "    torch.save(model.state_dict(), f'bert_classifier_epoch_{epoch+1}.pt')"
   ]
  },
  {
   "cell_type": "markdown",
   "id": "9d8ca0f6-77c0-4fb2-93ad-dde6c855e38b",
   "metadata": {},
   "source": [
    "I saved the model every epoch, set the code to run, and walked away instead of monitoring for early stopping. Looks like there's a break in how fast the loss decreases after epoch 4, so decided to use the model produced at that point. 80% accuracy on the test data seems good."
   ]
  },
  {
   "cell_type": "code",
   "execution_count": 18,
   "id": "88491058-7567-44b2-885f-9ea8fcae952b",
   "metadata": {},
   "outputs": [],
   "source": [
    "test_df = pd.read_csv('data/DisasterTweets/test.csv')\n",
    "test_df['label'] = 0\n",
    "dataset = TweetDataset(test_df['text'], test_df['label'])\n",
    "dataloader = DataLoader(dataset, batch_size=batch_size, shuffle=False)\n",
    "\n",
    "model = BERTClassifier(bert_model, num_classes)\n",
    "model.load_state_dict(torch.load('bert_classifier_epoch_4.pt'))\n",
    "model.to(device)\n",
    "model.eval()\n",
    "\n",
    "predictions = []\n",
    "with torch.no_grad():\n",
    "    for texts, _ in dataloader:\n",
    "        inputs = tokenizer(texts, padding=True, truncation=True, return_tensors='pt')\n",
    "        input_ids = inputs['input_ids'].to(device)\n",
    "        attention_mask = inputs['attention_mask'].to(device)\n",
    "        outputs = model(input_ids=input_ids, attention_mask=attention_mask)\n",
    "        _, predicted = torch.max(outputs, 1)\n",
    "        predictions.extend(predicted.tolist())\n",
    "\n",
    "test_df['target'] = predictions\n",
    "\n",
    "test_df[['id', 'target']].to_csv('data/DisasterTweets/predictions.csv', index=False)"
   ]
  }
 ],
 "metadata": {
  "kernelspec": {
   "display_name": "Python 3 (ipykernel)",
   "language": "python",
   "name": "python3"
  },
  "language_info": {
   "codemirror_mode": {
    "name": "ipython",
    "version": 3
   },
   "file_extension": ".py",
   "mimetype": "text/x-python",
   "name": "python",
   "nbconvert_exporter": "python",
   "pygments_lexer": "ipython3",
   "version": "3.11.8"
  }
 },
 "nbformat": 4,
 "nbformat_minor": 5
}
